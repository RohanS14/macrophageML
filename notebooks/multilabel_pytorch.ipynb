{
 "cells": [
  {
   "cell_type": "code",
   "execution_count": 2,
   "id": "d96edc74-cc74-49d2-b760-edc8e8664465",
   "metadata": {},
   "outputs": [],
   "source": [
    "import numpy as np\n",
    "import pandas as pd\n",
    "import seaborn as sns\n",
    "from tqdm.notebook import tqdm\n",
    "import matplotlib.pyplot as plt\n",
    "\n",
    "import torch\n",
    "import torch.nn as nn\n",
    "import torch.optim as optim\n",
    "from torch.utils.data import Dataset, DataLoader, WeightedRandomSampler\n",
    "\n",
    "from sklearn.preprocessing import MinMaxScaler    \n",
    "from sklearn.model_selection import train_test_split\n",
    "from sklearn.metrics import confusion_matrix, classification_report"
   ]
  },
  {
   "cell_type": "markdown",
   "id": "79008d3a-b4e9-461e-9065-d508d166ea33",
   "metadata": {},
   "source": [
    "Adapted from: https://towardsdatascience.com/pytorch-tabular-multiclass-classification-9f8211a123ab"
   ]
  },
  {
   "cell_type": "markdown",
   "id": "61ffa5c3-0862-45b3-b817-c12f6e3355da",
   "metadata": {},
   "source": [
    "### Read Data"
   ]
  },
  {
   "cell_type": "code",
   "execution_count": 3,
   "id": "34783ee4-5f8f-4689-ba44-170964a8e526",
   "metadata": {},
   "outputs": [],
   "source": [
    "data = pd.read_pickle(\"../Data/GSE115978-allData.pkl\")"
   ]
  },
  {
   "cell_type": "code",
   "execution_count": 4,
   "id": "019d0c74-cbc5-4c30-9e2a-19c446a7b1cd",
   "metadata": {},
   "outputs": [
    {
     "data": {
      "text/html": [
       "<div>\n",
       "<style scoped>\n",
       "    .dataframe tbody tr th:only-of-type {\n",
       "        vertical-align: middle;\n",
       "    }\n",
       "\n",
       "    .dataframe tbody tr th {\n",
       "        vertical-align: top;\n",
       "    }\n",
       "\n",
       "    .dataframe thead th {\n",
       "        text-align: right;\n",
       "    }\n",
       "</style>\n",
       "<table border=\"1\" class=\"dataframe\">\n",
       "  <thead>\n",
       "    <tr style=\"text-align: right;\">\n",
       "      <th></th>\n",
       "      <th>cellID</th>\n",
       "      <th>cellType</th>\n",
       "      <th>C9orf152</th>\n",
       "      <th>RPS11</th>\n",
       "      <th>ELMO2</th>\n",
       "      <th>CREB3L1</th>\n",
       "      <th>PNMA1</th>\n",
       "      <th>MMP2</th>\n",
       "      <th>TMEM216</th>\n",
       "      <th>TRAF3IP2-AS1</th>\n",
       "      <th>...</th>\n",
       "      <th>MIR4691</th>\n",
       "      <th>GPLD1</th>\n",
       "      <th>RAB8A</th>\n",
       "      <th>RXFP2</th>\n",
       "      <th>PCIF1</th>\n",
       "      <th>PIK3IP1</th>\n",
       "      <th>SNRPD2</th>\n",
       "      <th>SLC39A6</th>\n",
       "      <th>CTSC</th>\n",
       "      <th>AQP7</th>\n",
       "    </tr>\n",
       "  </thead>\n",
       "  <tbody>\n",
       "    <tr>\n",
       "      <th>0</th>\n",
       "      <td>GSM3197115</td>\n",
       "      <td>Mal</td>\n",
       "      <td>0.0</td>\n",
       "      <td>2.067933</td>\n",
       "      <td>1.517847</td>\n",
       "      <td>0.0</td>\n",
       "      <td>1.686722</td>\n",
       "      <td>1.168448</td>\n",
       "      <td>1.526162</td>\n",
       "      <td>0.493304</td>\n",
       "      <td>...</td>\n",
       "      <td>0.000000</td>\n",
       "      <td>0.367588</td>\n",
       "      <td>1.496530</td>\n",
       "      <td>0.0</td>\n",
       "      <td>0.000000</td>\n",
       "      <td>0.966075</td>\n",
       "      <td>1.876721</td>\n",
       "      <td>1.638426</td>\n",
       "      <td>1.512449</td>\n",
       "      <td>0.0</td>\n",
       "    </tr>\n",
       "    <tr>\n",
       "      <th>1</th>\n",
       "      <td>GSM3197116</td>\n",
       "      <td>Mal</td>\n",
       "      <td>0.0</td>\n",
       "      <td>1.922102</td>\n",
       "      <td>0.000000</td>\n",
       "      <td>0.0</td>\n",
       "      <td>0.000000</td>\n",
       "      <td>0.000000</td>\n",
       "      <td>0.000000</td>\n",
       "      <td>0.000000</td>\n",
       "      <td>...</td>\n",
       "      <td>0.000000</td>\n",
       "      <td>0.000000</td>\n",
       "      <td>0.000000</td>\n",
       "      <td>0.0</td>\n",
       "      <td>1.802701</td>\n",
       "      <td>1.909713</td>\n",
       "      <td>0.000000</td>\n",
       "      <td>0.000000</td>\n",
       "      <td>0.000000</td>\n",
       "      <td>0.0</td>\n",
       "    </tr>\n",
       "    <tr>\n",
       "      <th>2</th>\n",
       "      <td>GSM3197117</td>\n",
       "      <td>Mal</td>\n",
       "      <td>0.0</td>\n",
       "      <td>2.015497</td>\n",
       "      <td>0.841959</td>\n",
       "      <td>0.0</td>\n",
       "      <td>0.695306</td>\n",
       "      <td>0.000000</td>\n",
       "      <td>0.000000</td>\n",
       "      <td>1.446632</td>\n",
       "      <td>...</td>\n",
       "      <td>0.000000</td>\n",
       "      <td>1.127459</td>\n",
       "      <td>0.000000</td>\n",
       "      <td>0.0</td>\n",
       "      <td>0.000000</td>\n",
       "      <td>0.000000</td>\n",
       "      <td>1.882266</td>\n",
       "      <td>1.141858</td>\n",
       "      <td>1.459023</td>\n",
       "      <td>0.0</td>\n",
       "    </tr>\n",
       "    <tr>\n",
       "      <th>3</th>\n",
       "      <td>GSM3197118</td>\n",
       "      <td>Mal</td>\n",
       "      <td>0.0</td>\n",
       "      <td>1.930309</td>\n",
       "      <td>1.691069</td>\n",
       "      <td>0.0</td>\n",
       "      <td>1.592092</td>\n",
       "      <td>0.000000</td>\n",
       "      <td>0.000000</td>\n",
       "      <td>1.038573</td>\n",
       "      <td>...</td>\n",
       "      <td>0.000000</td>\n",
       "      <td>0.000000</td>\n",
       "      <td>0.000000</td>\n",
       "      <td>0.0</td>\n",
       "      <td>0.000000</td>\n",
       "      <td>0.000000</td>\n",
       "      <td>1.947145</td>\n",
       "      <td>1.666798</td>\n",
       "      <td>1.047136</td>\n",
       "      <td>0.0</td>\n",
       "    </tr>\n",
       "    <tr>\n",
       "      <th>4</th>\n",
       "      <td>GSM3197119</td>\n",
       "      <td>Mal</td>\n",
       "      <td>0.0</td>\n",
       "      <td>2.058619</td>\n",
       "      <td>1.509809</td>\n",
       "      <td>0.0</td>\n",
       "      <td>1.748345</td>\n",
       "      <td>1.676507</td>\n",
       "      <td>1.527963</td>\n",
       "      <td>0.757932</td>\n",
       "      <td>...</td>\n",
       "      <td>0.000000</td>\n",
       "      <td>0.624097</td>\n",
       "      <td>1.686261</td>\n",
       "      <td>0.0</td>\n",
       "      <td>1.601311</td>\n",
       "      <td>1.379246</td>\n",
       "      <td>1.924609</td>\n",
       "      <td>1.715210</td>\n",
       "      <td>1.352315</td>\n",
       "      <td>0.0</td>\n",
       "    </tr>\n",
       "    <tr>\n",
       "      <th>...</th>\n",
       "      <td>...</td>\n",
       "      <td>...</td>\n",
       "      <td>...</td>\n",
       "      <td>...</td>\n",
       "      <td>...</td>\n",
       "      <td>...</td>\n",
       "      <td>...</td>\n",
       "      <td>...</td>\n",
       "      <td>...</td>\n",
       "      <td>...</td>\n",
       "      <td>...</td>\n",
       "      <td>...</td>\n",
       "      <td>...</td>\n",
       "      <td>...</td>\n",
       "      <td>...</td>\n",
       "      <td>...</td>\n",
       "      <td>...</td>\n",
       "      <td>...</td>\n",
       "      <td>...</td>\n",
       "      <td>...</td>\n",
       "      <td>...</td>\n",
       "    </tr>\n",
       "    <tr>\n",
       "      <th>7181</th>\n",
       "      <td>GSM3204296</td>\n",
       "      <td>T.CD8</td>\n",
       "      <td>0.0</td>\n",
       "      <td>1.924485</td>\n",
       "      <td>0.000000</td>\n",
       "      <td>0.0</td>\n",
       "      <td>0.000000</td>\n",
       "      <td>0.000000</td>\n",
       "      <td>0.000000</td>\n",
       "      <td>0.917210</td>\n",
       "      <td>...</td>\n",
       "      <td>0.000000</td>\n",
       "      <td>0.617210</td>\n",
       "      <td>1.937055</td>\n",
       "      <td>0.0</td>\n",
       "      <td>0.000000</td>\n",
       "      <td>0.000000</td>\n",
       "      <td>1.986266</td>\n",
       "      <td>0.000000</td>\n",
       "      <td>1.991558</td>\n",
       "      <td>0.0</td>\n",
       "    </tr>\n",
       "    <tr>\n",
       "      <th>7182</th>\n",
       "      <td>GSM3204297</td>\n",
       "      <td>T.CD8</td>\n",
       "      <td>0.0</td>\n",
       "      <td>1.977320</td>\n",
       "      <td>0.000000</td>\n",
       "      <td>0.0</td>\n",
       "      <td>0.000000</td>\n",
       "      <td>0.000000</td>\n",
       "      <td>0.000000</td>\n",
       "      <td>1.606071</td>\n",
       "      <td>...</td>\n",
       "      <td>0.000000</td>\n",
       "      <td>0.636619</td>\n",
       "      <td>0.000000</td>\n",
       "      <td>0.0</td>\n",
       "      <td>1.941190</td>\n",
       "      <td>1.212302</td>\n",
       "      <td>0.000000</td>\n",
       "      <td>0.000000</td>\n",
       "      <td>1.324604</td>\n",
       "      <td>0.0</td>\n",
       "    </tr>\n",
       "    <tr>\n",
       "      <th>7183</th>\n",
       "      <td>GSM3204298</td>\n",
       "      <td>T.CD8</td>\n",
       "      <td>0.0</td>\n",
       "      <td>1.986248</td>\n",
       "      <td>0.000000</td>\n",
       "      <td>0.0</td>\n",
       "      <td>0.000000</td>\n",
       "      <td>0.000000</td>\n",
       "      <td>0.000000</td>\n",
       "      <td>1.255850</td>\n",
       "      <td>...</td>\n",
       "      <td>0.000000</td>\n",
       "      <td>0.868394</td>\n",
       "      <td>0.000000</td>\n",
       "      <td>0.0</td>\n",
       "      <td>1.997277</td>\n",
       "      <td>0.000000</td>\n",
       "      <td>0.000000</td>\n",
       "      <td>0.000000</td>\n",
       "      <td>1.601028</td>\n",
       "      <td>0.0</td>\n",
       "    </tr>\n",
       "    <tr>\n",
       "      <th>7184</th>\n",
       "      <td>GSM3204299</td>\n",
       "      <td>T.CD8</td>\n",
       "      <td>0.0</td>\n",
       "      <td>0.000000</td>\n",
       "      <td>0.000000</td>\n",
       "      <td>0.0</td>\n",
       "      <td>0.000000</td>\n",
       "      <td>0.000000</td>\n",
       "      <td>0.000000</td>\n",
       "      <td>1.398943</td>\n",
       "      <td>...</td>\n",
       "      <td>1.868568</td>\n",
       "      <td>1.488624</td>\n",
       "      <td>0.000000</td>\n",
       "      <td>0.0</td>\n",
       "      <td>0.000000</td>\n",
       "      <td>0.000000</td>\n",
       "      <td>1.668218</td>\n",
       "      <td>0.000000</td>\n",
       "      <td>1.948110</td>\n",
       "      <td>0.0</td>\n",
       "    </tr>\n",
       "    <tr>\n",
       "      <th>7185</th>\n",
       "      <td>GSM3204300</td>\n",
       "      <td>T.CD8</td>\n",
       "      <td>0.0</td>\n",
       "      <td>1.824239</td>\n",
       "      <td>1.941595</td>\n",
       "      <td>0.0</td>\n",
       "      <td>0.000000</td>\n",
       "      <td>0.000000</td>\n",
       "      <td>0.000000</td>\n",
       "      <td>1.132911</td>\n",
       "      <td>...</td>\n",
       "      <td>0.000000</td>\n",
       "      <td>1.162750</td>\n",
       "      <td>0.000000</td>\n",
       "      <td>0.0</td>\n",
       "      <td>0.000000</td>\n",
       "      <td>1.791643</td>\n",
       "      <td>1.945509</td>\n",
       "      <td>0.000000</td>\n",
       "      <td>1.599892</td>\n",
       "      <td>0.0</td>\n",
       "    </tr>\n",
       "  </tbody>\n",
       "</table>\n",
       "<p>7186 rows × 21592 columns</p>\n",
       "</div>"
      ],
      "text/plain": [
       "          cellID cellType  C9orf152     RPS11     ELMO2  CREB3L1     PNMA1  \\\n",
       "0     GSM3197115      Mal       0.0  2.067933  1.517847      0.0  1.686722   \n",
       "1     GSM3197116      Mal       0.0  1.922102  0.000000      0.0  0.000000   \n",
       "2     GSM3197117      Mal       0.0  2.015497  0.841959      0.0  0.695306   \n",
       "3     GSM3197118      Mal       0.0  1.930309  1.691069      0.0  1.592092   \n",
       "4     GSM3197119      Mal       0.0  2.058619  1.509809      0.0  1.748345   \n",
       "...          ...      ...       ...       ...       ...      ...       ...   \n",
       "7181  GSM3204296    T.CD8       0.0  1.924485  0.000000      0.0  0.000000   \n",
       "7182  GSM3204297    T.CD8       0.0  1.977320  0.000000      0.0  0.000000   \n",
       "7183  GSM3204298    T.CD8       0.0  1.986248  0.000000      0.0  0.000000   \n",
       "7184  GSM3204299    T.CD8       0.0  0.000000  0.000000      0.0  0.000000   \n",
       "7185  GSM3204300    T.CD8       0.0  1.824239  1.941595      0.0  0.000000   \n",
       "\n",
       "          MMP2   TMEM216  TRAF3IP2-AS1  ...   MIR4691     GPLD1     RAB8A  \\\n",
       "0     1.168448  1.526162      0.493304  ...  0.000000  0.367588  1.496530   \n",
       "1     0.000000  0.000000      0.000000  ...  0.000000  0.000000  0.000000   \n",
       "2     0.000000  0.000000      1.446632  ...  0.000000  1.127459  0.000000   \n",
       "3     0.000000  0.000000      1.038573  ...  0.000000  0.000000  0.000000   \n",
       "4     1.676507  1.527963      0.757932  ...  0.000000  0.624097  1.686261   \n",
       "...        ...       ...           ...  ...       ...       ...       ...   \n",
       "7181  0.000000  0.000000      0.917210  ...  0.000000  0.617210  1.937055   \n",
       "7182  0.000000  0.000000      1.606071  ...  0.000000  0.636619  0.000000   \n",
       "7183  0.000000  0.000000      1.255850  ...  0.000000  0.868394  0.000000   \n",
       "7184  0.000000  0.000000      1.398943  ...  1.868568  1.488624  0.000000   \n",
       "7185  0.000000  0.000000      1.132911  ...  0.000000  1.162750  0.000000   \n",
       "\n",
       "      RXFP2     PCIF1   PIK3IP1    SNRPD2   SLC39A6      CTSC  AQP7  \n",
       "0       0.0  0.000000  0.966075  1.876721  1.638426  1.512449   0.0  \n",
       "1       0.0  1.802701  1.909713  0.000000  0.000000  0.000000   0.0  \n",
       "2       0.0  0.000000  0.000000  1.882266  1.141858  1.459023   0.0  \n",
       "3       0.0  0.000000  0.000000  1.947145  1.666798  1.047136   0.0  \n",
       "4       0.0  1.601311  1.379246  1.924609  1.715210  1.352315   0.0  \n",
       "...     ...       ...       ...       ...       ...       ...   ...  \n",
       "7181    0.0  0.000000  0.000000  1.986266  0.000000  1.991558   0.0  \n",
       "7182    0.0  1.941190  1.212302  0.000000  0.000000  1.324604   0.0  \n",
       "7183    0.0  1.997277  0.000000  0.000000  0.000000  1.601028   0.0  \n",
       "7184    0.0  0.000000  0.000000  1.668218  0.000000  1.948110   0.0  \n",
       "7185    0.0  0.000000  1.791643  1.945509  0.000000  1.599892   0.0  \n",
       "\n",
       "[7186 rows x 21592 columns]"
      ]
     },
     "execution_count": 4,
     "metadata": {},
     "output_type": "execute_result"
    }
   ],
   "source": [
    "data"
   ]
  },
  {
   "cell_type": "markdown",
   "id": "80b6cf15-b42d-4e9a-888b-8e518cd1469f",
   "metadata": {},
   "source": [
    "### Class Distribution"
   ]
  },
  {
   "cell_type": "code",
   "execution_count": 5,
   "id": "9c727b84-5d71-42c7-b4cf-a0f2a9fa5ad8",
   "metadata": {},
   "outputs": [
    {
     "data": {
      "text/plain": [
       "[Text(0, 0, 'Mal'),\n",
       " Text(1, 0, 'Macrophage'),\n",
       " Text(2, 0, 'Undetermined'),\n",
       " Text(3, 0, 'Endo.'),\n",
       " Text(4, 0, 'T.CD4'),\n",
       " Text(5, 0, 'CAF'),\n",
       " Text(6, 0, 'T.CD8'),\n",
       " Text(7, 0, 'T.cell'),\n",
       " Text(8, 0, 'NK'),\n",
       " Text(9, 0, 'B.cell')]"
      ]
     },
     "execution_count": 5,
     "metadata": {},
     "output_type": "execute_result"
    },
    {
     "data": {
      "image/png": "[encoded data removed]",
      "text/plain": [
       "<Figure size 640x480 with 1 Axes>"
      ]
     },
     "metadata": {},
     "output_type": "display_data"
    }
   ],
   "source": [
    "chart = sns.countplot(x = 'cellType', data=data, orient='v')\n",
    "chart.set_xticklabels(chart.get_xticklabels(), rotation=45, horizontalalignment='right')"
   ]
  },
  {
   "cell_type": "markdown",
   "id": "3a203294-f2c7-48a4-826a-a98155d18c4e",
   "metadata": {},
   "source": [
    "### Encode Output Class"
   ]
  },
  {
   "cell_type": "code",
   "execution_count": 6,
   "id": "953a2762-6f14-4161-bfc6-d7cacf42eb5f",
   "metadata": {},
   "outputs": [],
   "source": [
    "cellTypes = data[\"cellType\"].unique()\n",
    "class2idx = {cellTypes[i]:i for i in range(len(cellTypes))}\n",
    "idx2class = {v: k for k, v in class2idx.items()}\n",
    "data['cellType'].replace(class2idx, inplace=True)"
   ]
  },
  {
   "cell_type": "markdown",
   "id": "d0095027-c8b0-4a3a-ac98-cc595e9ee49b",
   "metadata": {},
   "source": [
    "### Create Input and Output Data"
   ]
  },
  {
   "cell_type": "code",
   "execution_count": 54,
   "id": "b4a334ea-e3f1-4361-9a6d-c6d7b46c7631",
   "metadata": {},
   "outputs": [],
   "source": [
    "X = data.iloc[:, 2:] # Input features\n",
    "y = data.iloc[:, 1]  # Output target"
   ]
  },
  {
   "cell_type": "code",
   "execution_count": 55,
   "id": "18d1cf7f-e6e4-446e-8d7d-f0158dc55c1e",
   "metadata": {},
   "outputs": [],
   "source": [
    "# Split into train+val and test\n",
    "X_trainval, X_test, y_trainval, y_test = train_test_split(X.to_numpy(), y.to_numpy(), test_size=0.2, stratify=y, random_state=69)\n",
    "\n",
    "# Split train into train-val\n",
    "X_train, X_val, y_train, y_val = train_test_split(X_trainval, y_trainval, test_size=0.1, stratify=y_trainval, random_state=21)"
   ]
  },
  {
   "cell_type": "markdown",
   "id": "34a65601-56ff-42b3-9719-b4dcccf0b04a",
   "metadata": {},
   "source": [
    "### Generate Dataset"
   ]
  },
  {
   "cell_type": "code",
   "execution_count": 33,
   "id": "f3734b8a-a926-4833-8b1e-e96a80df1a0b",
   "metadata": {},
   "outputs": [],
   "source": [
    "class ClassifierDataset(Dataset):\n",
    "    \n",
    "    def __init__(self, X_data, y_data):\n",
    "        self.X_data = X_data\n",
    "        self.y_data = y_data\n",
    "        \n",
    "    def __getitem__(self, index):\n",
    "        return self.X_data[index], self.y_data[index]\n",
    "        \n",
    "    def __len__ (self):\n",
    "        return len(self.X_data)\n",
    "\n",
    "\n",
    "train_dataset = ClassifierDataset(torch.from_numpy(X_train).float(), torch.from_numpy(y_train).long())\n",
    "val_dataset = ClassifierDataset(torch.from_numpy(X_val).float(), torch.from_numpy(y_val).long())\n",
    "test_dataset = ClassifierDataset(torch.from_numpy(X_test).float(), torch.from_numpy(y_test).long())"
   ]
  },
  {
   "cell_type": "markdown",
   "id": "7d8849b1-190b-4239-aec3-8de18e23447f",
   "metadata": {},
   "source": [
    "### Weighted Sampling"
   ]
  },
  {
   "cell_type": "code",
   "execution_count": 47,
   "id": "dbc3d814-3ab9-43be-bd37-586c993d1679",
   "metadata": {},
   "outputs": [],
   "source": [
    "target_list = []\n",
    "for _, t in train_dataset:\n",
    "    target_list.append(t)\n",
    "    \n",
    "target_list = torch.tensor(target_list)"
   ]
  },
  {
   "cell_type": "markdown",
   "id": "5d88399a-5362-4ae1-ad7f-29caf6950fa6",
   "metadata": {},
   "source": [
    "Define class weights as the reciprocal of each class count"
   ]
  },
  {
   "cell_type": "code",
   "execution_count": 45,
   "id": "58e4a646-5b7a-4d14-a0cb-a91db64ccacb",
   "metadata": {},
   "outputs": [
    {
     "data": {
      "text/plain": [
       "tensor([0.0007, 0.0033, 0.0045, 0.0133, 0.0016, 0.0130, 0.0008, 0.0020, 0.0149,\n",
       "        0.0017])"
      ]
     },
     "execution_count": 45,
     "metadata": {},
     "output_type": "execute_result"
    }
   ],
   "source": [
    "class_count = torch.bincount(target_list)\n",
    "class_weights = 1./class_count\n",
    "class_weights"
   ]
  },
  {
   "cell_type": "code",
   "execution_count": 46,
   "id": "7da2adce-825a-4188-8f39-792b46dd0394",
   "metadata": {},
   "outputs": [
    {
     "data": {
      "text/plain": [
       "tensor([0.0007, 0.0016, 0.0020,  ..., 0.0008, 0.0008, 0.0007])"
      ]
     },
     "execution_count": 46,
     "metadata": {},
     "output_type": "execute_result"
    }
   ],
   "source": [
    "class_weights_all = class_weights[target_list]\n",
    "class_weights_all"
   ]
  },
  {
   "cell_type": "code",
   "execution_count": 48,
   "id": "0eb9fac6-19a9-4fcc-9623-188c07a3846a",
   "metadata": {},
   "outputs": [],
   "source": [
    "weighted_sampler = WeightedRandomSampler(\n",
    "    weights=class_weights_all,\n",
    "    num_samples=len(class_weights_all),\n",
    "    replacement=True\n",
    ")"
   ]
  },
  {
   "cell_type": "markdown",
   "id": "430de934-d9b3-4cd6-9449-cc9fa6c4d8c9",
   "metadata": {},
   "source": [
    "### Model Parameters"
   ]
  },
  {
   "cell_type": "code",
   "execution_count": 99,
   "id": "53ec6ffd-902a-41bd-a0b3-c933a8e25c1d",
   "metadata": {},
   "outputs": [],
   "source": [
    "EPOCHS = 5\n",
    "BATCH_SIZE = 16\n",
    "LEARNING_RATE = 0.01\n",
    "NUM_FEATURES = len(X.columns)\n",
    "NUM_CLASSES = 10"
   ]
  },
  {
   "cell_type": "markdown",
   "id": "89a4ead2-a7fc-4fca-a61e-d2b07ff9b42c",
   "metadata": {},
   "source": [
    "### DataLoaders"
   ]
  },
  {
   "cell_type": "code",
   "execution_count": 88,
   "id": "d97cb3ea-e59d-4d22-a21d-43827e47b214",
   "metadata": {},
   "outputs": [],
   "source": [
    "train_loader = DataLoader(dataset=train_dataset,\n",
    "                          batch_size=BATCH_SIZE,\n",
    "                          sampler=weighted_sampler\n",
    ")\n",
    "val_loader = DataLoader(dataset=val_dataset, batch_size=1)\n",
    "test_loader = DataLoader(dataset=test_dataset, batch_size=1)"
   ]
  },
  {
   "cell_type": "markdown",
   "id": "0288c59a-3fe7-467d-90e8-b790fa5af3b6",
   "metadata": {},
   "source": [
    "### Neural Net Architecture"
   ]
  },
  {
   "cell_type": "code",
   "execution_count": 89,
   "id": "fa24dba4-2339-4279-8c54-e7bb0f1b9092",
   "metadata": {},
   "outputs": [],
   "source": [
    "class MulticlassClassification(nn.Module):\n",
    "    def __init__(self, num_feature, num_class):\n",
    "        super(MulticlassClassification, self).__init__()\n",
    "        self.bn_cont = nn.BatchNorm1d(num_feature, eps=1e-05, momentum=0.1, affine=True)\n",
    "        self.layers = nn.Sequential(\n",
    "            nn.Linear(num_feature, 100, bias=False),\n",
    "            nn.ReLU(inplace=True),\n",
    "            nn.BatchNorm1d(100, eps=1e-05, momentum=0.1, affine=True),\n",
    "            nn.Linear(100, 100, bias=False),\n",
    "            nn.ReLU(inplace=True),\n",
    "            nn.BatchNorm1d(100, eps=1e-05, momentum=0.1, affine=True),\n",
    "            nn.Linear(100, num_class, bias=True)\n",
    "        )\n",
    "\n",
    "    def forward(self, x):\n",
    "        x = self.bn_cont(x)\n",
    "        x = self.layers(x)\n",
    "        return x\n"
   ]
  },
  {
   "cell_type": "markdown",
   "id": "9c628b53-6b00-416c-814a-161b59ca7300",
   "metadata": {},
   "source": [
    "Check if GPU is active"
   ]
  },
  {
   "cell_type": "code",
   "execution_count": 90,
   "id": "51dd481d-17ea-406a-a07b-cbc3efd9c783",
   "metadata": {},
   "outputs": [],
   "source": [
    "device = torch.device(\"cuda:0\" if torch.cuda.is_available() else \"cpu\")"
   ]
  },
  {
   "cell_type": "markdown",
   "id": "0358fb68-2b3e-4a83-8082-49b6b0385bb2",
   "metadata": {},
   "source": [
    "Create model for our task"
   ]
  },
  {
   "cell_type": "code",
   "execution_count": 91,
   "id": "f10f3313-03ab-4012-ac35-9ba769036218",
   "metadata": {},
   "outputs": [
    {
     "data": {
      "text/plain": [
       "MulticlassClassification(\n",
       "  (bn_cont): BatchNorm1d(21590, eps=1e-05, momentum=0.1, affine=True, track_running_stats=True)\n",
       "  (layers): Sequential(\n",
       "    (0): Linear(in_features=21590, out_features=100, bias=False)\n",
       "    (1): ReLU(inplace=True)\n",
       "    (2): BatchNorm1d(100, eps=1e-05, momentum=0.1, affine=True, track_running_stats=True)\n",
       "    (3): Linear(in_features=100, out_features=100, bias=False)\n",
       "    (4): ReLU(inplace=True)\n",
       "    (5): BatchNorm1d(100, eps=1e-05, momentum=0.1, affine=True, track_running_stats=True)\n",
       "    (6): Linear(in_features=100, out_features=10, bias=True)\n",
       "  )\n",
       ")"
      ]
     },
     "execution_count": 91,
     "metadata": {},
     "output_type": "execute_result"
    }
   ],
   "source": [
    "model = MulticlassClassification(NUM_FEATURES, NUM_CLASSES)\n",
    "model.to(device)\n",
    "model"
   ]
  },
  {
   "cell_type": "markdown",
   "id": "6f841b2a-4502-475f-9b08-4a09b8b0247c",
   "metadata": {},
   "source": [
    "Set an optimizer for gradient descent and a loss function"
   ]
  },
  {
   "cell_type": "code",
   "execution_count": 92,
   "id": "ffa06ae1-be53-43aa-98b0-f4e2319feaf9",
   "metadata": {},
   "outputs": [],
   "source": [
    "criterion = nn.CrossEntropyLoss(weight=class_weights.to(device))\n",
    "optimizer = optim.Adam(model.parameters(), lr=LEARNING_RATE)"
   ]
  },
  {
   "cell_type": "markdown",
   "id": "0a297a03-d9c1-471d-bef5-2dead4fbb872",
   "metadata": {},
   "source": [
    "### Train model"
   ]
  },
  {
   "cell_type": "markdown",
   "id": "26750f16-e7c3-48bc-a497-e64db86cb713",
   "metadata": {},
   "source": [
    "Function to calculate accuracy each epoch"
   ]
  },
  {
   "cell_type": "code",
   "execution_count": 93,
   "id": "0fd0e2ff-75b9-4a83-9389-e570dd84b820",
   "metadata": {},
   "outputs": [],
   "source": [
    "def multi_acc(y_pred, y_test):\n",
    "    y_pred_softmax = torch.log_softmax(y_pred, dim = 1)\n",
    "    _, y_pred_tags = torch.max(y_pred_softmax, dim = 1)    \n",
    "    \n",
    "    correct_pred = (y_pred_tags == y_test).float()\n",
    "    acc = correct_pred.sum() / len(correct_pred)\n",
    "    \n",
    "    acc = torch.round(acc * 100)\n",
    "    \n",
    "    return acc"
   ]
  },
  {
   "cell_type": "code",
   "execution_count": 94,
   "id": "dd7fd9d9-cc80-4281-a6e8-491af9864b0c",
   "metadata": {},
   "outputs": [],
   "source": [
    "accuracy_stats = {\n",
    "    'train': [],\n",
    "    \"val\": []\n",
    "}\n",
    "loss_stats = {\n",
    "    'train': [],\n",
    "    \"val\": []\n",
    "}"
   ]
  },
  {
   "cell_type": "code",
   "execution_count": 95,
   "id": "b7fd5da3-b085-4373-9abf-474dbb15bd9c",
   "metadata": {},
   "outputs": [
    {
     "name": "stdout",
     "output_type": "stream",
     "text": [
      "Begin training.\n"
     ]
    },
    {
     "data": {
      "application/vnd.jupyter.widget-view+json": {
       "model_id": "f77c38a16a85474599d7ec69a7a4819a",
       "version_major": 2,
       "version_minor": 0
      },
      "text/plain": [
       "  0%|          | 0/5 [00:00<?, ?it/s]"
      ]
     },
     "metadata": {},
     "output_type": "display_data"
    },
    {
     "name": "stdout",
     "output_type": "stream",
     "text": [
      "Epoch 001: | Train Loss: 0.46173 | Val Loss: 1.90925 | Train Acc: 65.318| Val Acc: 59.652\n",
      "Epoch 002: | Train Loss: 0.13437 | Val Loss: 2.90470 | Train Acc: 87.040| Val Acc: 58.783\n",
      "Epoch 003: | Train Loss: 0.07296 | Val Loss: 2.90193 | Train Acc: 93.645| Val Acc: 63.826\n",
      "Epoch 004: | Train Loss: 0.04375 | Val Loss: 4.04469 | Train Acc: 96.191| Val Acc: 58.609\n",
      "Epoch 005: | Train Loss: 0.04668 | Val Loss: 4.27161 | Train Acc: 96.108| Val Acc: 65.565\n"
     ]
    }
   ],
   "source": [
    "print(\"Begin training.\")\n",
    "for e in tqdm(range(1, EPOCHS+1)):\n",
    "    \n",
    "    # TRAINING\n",
    "    train_epoch_loss = 0\n",
    "    train_epoch_acc = 0\n",
    "    \n",
    "    model.train()\n",
    "    for X_train_batch, y_train_batch in train_loader:\n",
    "        X_train_batch, y_train_batch = X_train_batch.to(device), y_train_batch.to(device)\n",
    "        optimizer.zero_grad()\n",
    "        \n",
    "        y_train_pred = model(X_train_batch)\n",
    "        \n",
    "        train_loss = criterion(y_train_pred, y_train_batch)\n",
    "        train_acc = multi_acc(y_train_pred, y_train_batch)\n",
    "        \n",
    "        train_loss.backward()\n",
    "        optimizer.step()\n",
    "        \n",
    "        train_epoch_loss += train_loss.item()\n",
    "        train_epoch_acc += train_acc.item()\n",
    "        \n",
    "        \n",
    "    # VALIDATION    \n",
    "    with torch.no_grad():\n",
    "        \n",
    "        val_epoch_loss = 0\n",
    "        val_epoch_acc = 0\n",
    "        \n",
    "        model.eval()\n",
    "        for X_val_batch, y_val_batch in val_loader:\n",
    "            X_val_batch, y_val_batch = X_val_batch.to(device), y_val_batch.to(device)\n",
    "            \n",
    "            y_val_pred = model(X_val_batch)\n",
    "                        \n",
    "            val_loss = criterion(y_val_pred, y_val_batch)\n",
    "            val_acc = multi_acc(y_val_pred, y_val_batch)\n",
    "            \n",
    "            val_epoch_loss += val_loss.item()\n",
    "            val_epoch_acc += val_acc.item()\n",
    "    \n",
    "    loss_stats['train'].append(train_epoch_loss/len(train_loader))\n",
    "    loss_stats['val'].append(val_epoch_loss/len(val_loader))\n",
    "    accuracy_stats['train'].append(train_epoch_acc/len(train_loader))\n",
    "    accuracy_stats['val'].append(val_epoch_acc/len(val_loader))\n",
    "                              \n",
    "    \n",
    "    print(f'Epoch {e+0:03}: | Train Loss: {train_epoch_loss/len(train_loader):.5f} | Val Loss: {val_epoch_loss/len(val_loader):.5f} | Train Acc: {train_epoch_acc/len(train_loader):.3f}| Val Acc: {val_epoch_acc/len(val_loader):.3f}')\n"
   ]
  },
  {
   "cell_type": "markdown",
   "id": "feee6086-0774-4a15-8879-db6bf27d380e",
   "metadata": {},
   "source": [
    "### Test model"
   ]
  },
  {
   "cell_type": "code",
   "execution_count": 96,
   "id": "1e1ce02e-5d6e-4a47-a278-9fe63aa5813b",
   "metadata": {},
   "outputs": [],
   "source": [
    "y_pred_list = []\n",
    "with torch.no_grad():\n",
    "    model.eval()\n",
    "    for X_batch, _ in test_loader:\n",
    "        X_batch = X_batch.to(device)\n",
    "        y_test_pred = model(X_batch)\n",
    "        _, y_pred_tags = torch.max(y_test_pred, dim = 1)\n",
    "        y_pred_list.append(y_pred_tags.cpu().numpy())\n",
    "y_pred_list = [a.squeeze().tolist() for a in y_pred_list]"
   ]
  },
  {
   "cell_type": "code",
   "execution_count": 97,
   "id": "457dec2a-95e7-49ba-8f8e-cf1d4990597b",
   "metadata": {},
   "outputs": [
    {
     "data": {
      "text/plain": [
       "<AxesSubplot: >"
      ]
     },
     "execution_count": 97,
     "metadata": {},
     "output_type": "execute_result"
    },
    {
     "data": {
      "image/png": "[encoded data removed]",
      "text/plain": [
       "<Figure size 640x480 with 2 Axes>"
      ]
     },
     "metadata": {},
     "output_type": "display_data"
    }
   ],
   "source": [
    "confusion_matrix_df = pd.DataFrame(confusion_matrix(y_test, y_pred_list)).rename(columns=idx2class, index=idx2class)\n",
    "\n",
    "sns.heatmap(confusion_matrix_df, annot=True)"
   ]
  },
  {
   "cell_type": "code",
   "execution_count": 98,
   "id": "6c163e2f-b341-4a72-acfb-a3298db651d6",
   "metadata": {},
   "outputs": [
    {
     "name": "stdout",
     "output_type": "stream",
     "text": [
      "              precision    recall  f1-score   support\n",
      "\n",
      "           0       0.95      0.73      0.82       404\n",
      "           1       0.68      0.89      0.77        84\n",
      "           2       0.17      0.42      0.24        62\n",
      "           3       0.43      0.57      0.49        21\n",
      "           4       0.59      0.67      0.63       171\n",
      "           5       0.32      0.71      0.44        21\n",
      "           6       0.86      0.69      0.77       352\n",
      "           7       0.44      0.41      0.43       141\n",
      "           8       0.28      0.61      0.39        18\n",
      "           9       0.84      0.71      0.77       164\n",
      "\n",
      "    accuracy                           0.67      1438\n",
      "   macro avg       0.56      0.64      0.57      1438\n",
      "weighted avg       0.75      0.67      0.70      1438\n",
      "\n"
     ]
    }
   ],
   "source": [
    "print(classification_report(y_test, y_pred_list))"
   ]
  },
  {
   "cell_type": "code",
   "execution_count": null,
   "id": "d7dbb334-c669-4d09-8671-601385f81417",
   "metadata": {},
   "outputs": [],
   "source": []
  }
 ],
 "metadata": {
  "kernelspec": {
   "display_name": "Python 3 (ipykernel)",
   "language": "python",
   "name": "python3"
  },
  "language_info": {
   "codemirror_mode": {
    "name": "ipython",
    "version": 3
   },
   "file_extension": ".py",
   "mimetype": "text/x-python",
   "name": "python",
   "nbconvert_exporter": "python",
   "pygments_lexer": "ipython3",
   "version": "3.9.16"
  },
  "toc-autonumbering": false,
  "toc-showmarkdowntxt": false
 },
 "nbformat": 4,
 "nbformat_minor": 5
}
