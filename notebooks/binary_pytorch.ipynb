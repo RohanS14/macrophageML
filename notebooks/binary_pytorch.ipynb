{
 "cells": [
  {
   "cell_type": "code",
   "execution_count": 2,
   "id": "c1c8660e-b42d-49b3-91db-18ec2a881854",
   "metadata": {},
   "outputs": [],
   "source": [
    "import numpy as np\n",
    "import pandas as pd\n",
    "import seaborn as sns\n",
    "from tqdm.notebook import tqdm\n",
    "import matplotlib.pyplot as plt\n",
    "\n",
    "import torch\n",
    "import torch.nn as nn\n",
    "import torch.optim as optim\n",
    "from torch.utils.data import Dataset, DataLoader, WeightedRandomSampler\n",
    "\n",
    "from sklearn.preprocessing import MinMaxScaler    \n",
    "from sklearn.model_selection import train_test_split\n",
    "from sklearn.metrics import confusion_matrix, classification_report\n",
    "\n",
    "SEED = 21\n",
    "plt.rcParams[\"figure.figsize\"] = (6.4/2, 4.8/2)"
   ]
  },
  {
   "cell_type": "markdown",
   "id": "cbe5c9ad-db2a-4791-8830-4cf9909f32f7",
   "metadata": {},
   "source": [
    "### Read in the data"
   ]
  },
  {
   "cell_type": "code",
   "execution_count": 3,
   "id": "17011c18-8638-4918-9fa9-8bbaadf19162",
   "metadata": {},
   "outputs": [
    {
     "data": {
      "text/html": [
       "<div>\n",
       "<style scoped>\n",
       "    .dataframe tbody tr th:only-of-type {\n",
       "        vertical-align: middle;\n",
       "    }\n",
       "\n",
       "    .dataframe tbody tr th {\n",
       "        vertical-align: top;\n",
       "    }\n",
       "\n",
       "    .dataframe thead th {\n",
       "        text-align: right;\n",
       "    }\n",
       "</style>\n",
       "<table border=\"1\" class=\"dataframe\">\n",
       "  <thead>\n",
       "    <tr style=\"text-align: right;\">\n",
       "      <th></th>\n",
       "      <th>cellID</th>\n",
       "      <th>cellType</th>\n",
       "      <th>macrophage</th>\n",
       "      <th>C9orf152</th>\n",
       "      <th>RPS11</th>\n",
       "      <th>ELMO2</th>\n",
       "      <th>CREB3L1</th>\n",
       "      <th>PNMA1</th>\n",
       "      <th>MMP2</th>\n",
       "      <th>TMEM216</th>\n",
       "      <th>...</th>\n",
       "      <th>MIR4691</th>\n",
       "      <th>GPLD1</th>\n",
       "      <th>RAB8A</th>\n",
       "      <th>RXFP2</th>\n",
       "      <th>PCIF1</th>\n",
       "      <th>PIK3IP1</th>\n",
       "      <th>SNRPD2</th>\n",
       "      <th>SLC39A6</th>\n",
       "      <th>CTSC</th>\n",
       "      <th>AQP7</th>\n",
       "    </tr>\n",
       "  </thead>\n",
       "  <tbody>\n",
       "    <tr>\n",
       "      <th>0</th>\n",
       "      <td>GSM3197115</td>\n",
       "      <td>Mal</td>\n",
       "      <td>False</td>\n",
       "      <td>0.0</td>\n",
       "      <td>2.067933</td>\n",
       "      <td>1.517847</td>\n",
       "      <td>0.0</td>\n",
       "      <td>1.686722</td>\n",
       "      <td>1.168448</td>\n",
       "      <td>1.526162</td>\n",
       "      <td>...</td>\n",
       "      <td>0.000000</td>\n",
       "      <td>0.367588</td>\n",
       "      <td>1.496530</td>\n",
       "      <td>0.0</td>\n",
       "      <td>0.000000</td>\n",
       "      <td>0.966075</td>\n",
       "      <td>1.876721</td>\n",
       "      <td>1.638426</td>\n",
       "      <td>1.512449</td>\n",
       "      <td>0.0</td>\n",
       "    </tr>\n",
       "    <tr>\n",
       "      <th>1</th>\n",
       "      <td>GSM3197116</td>\n",
       "      <td>Mal</td>\n",
       "      <td>False</td>\n",
       "      <td>0.0</td>\n",
       "      <td>1.922102</td>\n",
       "      <td>0.000000</td>\n",
       "      <td>0.0</td>\n",
       "      <td>0.000000</td>\n",
       "      <td>0.000000</td>\n",
       "      <td>0.000000</td>\n",
       "      <td>...</td>\n",
       "      <td>0.000000</td>\n",
       "      <td>0.000000</td>\n",
       "      <td>0.000000</td>\n",
       "      <td>0.0</td>\n",
       "      <td>1.802701</td>\n",
       "      <td>1.909713</td>\n",
       "      <td>0.000000</td>\n",
       "      <td>0.000000</td>\n",
       "      <td>0.000000</td>\n",
       "      <td>0.0</td>\n",
       "    </tr>\n",
       "    <tr>\n",
       "      <th>2</th>\n",
       "      <td>GSM3197117</td>\n",
       "      <td>Mal</td>\n",
       "      <td>False</td>\n",
       "      <td>0.0</td>\n",
       "      <td>2.015497</td>\n",
       "      <td>0.841959</td>\n",
       "      <td>0.0</td>\n",
       "      <td>0.695306</td>\n",
       "      <td>0.000000</td>\n",
       "      <td>0.000000</td>\n",
       "      <td>...</td>\n",
       "      <td>0.000000</td>\n",
       "      <td>1.127459</td>\n",
       "      <td>0.000000</td>\n",
       "      <td>0.0</td>\n",
       "      <td>0.000000</td>\n",
       "      <td>0.000000</td>\n",
       "      <td>1.882266</td>\n",
       "      <td>1.141858</td>\n",
       "      <td>1.459023</td>\n",
       "      <td>0.0</td>\n",
       "    </tr>\n",
       "    <tr>\n",
       "      <th>3</th>\n",
       "      <td>GSM3197118</td>\n",
       "      <td>Mal</td>\n",
       "      <td>False</td>\n",
       "      <td>0.0</td>\n",
       "      <td>1.930309</td>\n",
       "      <td>1.691069</td>\n",
       "      <td>0.0</td>\n",
       "      <td>1.592092</td>\n",
       "      <td>0.000000</td>\n",
       "      <td>0.000000</td>\n",
       "      <td>...</td>\n",
       "      <td>0.000000</td>\n",
       "      <td>0.000000</td>\n",
       "      <td>0.000000</td>\n",
       "      <td>0.0</td>\n",
       "      <td>0.000000</td>\n",
       "      <td>0.000000</td>\n",
       "      <td>1.947145</td>\n",
       "      <td>1.666798</td>\n",
       "      <td>1.047136</td>\n",
       "      <td>0.0</td>\n",
       "    </tr>\n",
       "    <tr>\n",
       "      <th>4</th>\n",
       "      <td>GSM3197119</td>\n",
       "      <td>Mal</td>\n",
       "      <td>False</td>\n",
       "      <td>0.0</td>\n",
       "      <td>2.058619</td>\n",
       "      <td>1.509809</td>\n",
       "      <td>0.0</td>\n",
       "      <td>1.748345</td>\n",
       "      <td>1.676507</td>\n",
       "      <td>1.527963</td>\n",
       "      <td>...</td>\n",
       "      <td>0.000000</td>\n",
       "      <td>0.624097</td>\n",
       "      <td>1.686261</td>\n",
       "      <td>0.0</td>\n",
       "      <td>1.601311</td>\n",
       "      <td>1.379246</td>\n",
       "      <td>1.924609</td>\n",
       "      <td>1.715210</td>\n",
       "      <td>1.352315</td>\n",
       "      <td>0.0</td>\n",
       "    </tr>\n",
       "    <tr>\n",
       "      <th>...</th>\n",
       "      <td>...</td>\n",
       "      <td>...</td>\n",
       "      <td>...</td>\n",
       "      <td>...</td>\n",
       "      <td>...</td>\n",
       "      <td>...</td>\n",
       "      <td>...</td>\n",
       "      <td>...</td>\n",
       "      <td>...</td>\n",
       "      <td>...</td>\n",
       "      <td>...</td>\n",
       "      <td>...</td>\n",
       "      <td>...</td>\n",
       "      <td>...</td>\n",
       "      <td>...</td>\n",
       "      <td>...</td>\n",
       "      <td>...</td>\n",
       "      <td>...</td>\n",
       "      <td>...</td>\n",
       "      <td>...</td>\n",
       "      <td>...</td>\n",
       "    </tr>\n",
       "    <tr>\n",
       "      <th>7181</th>\n",
       "      <td>GSM3204296</td>\n",
       "      <td>T.CD8</td>\n",
       "      <td>False</td>\n",
       "      <td>0.0</td>\n",
       "      <td>1.924485</td>\n",
       "      <td>0.000000</td>\n",
       "      <td>0.0</td>\n",
       "      <td>0.000000</td>\n",
       "      <td>0.000000</td>\n",
       "      <td>0.000000</td>\n",
       "      <td>...</td>\n",
       "      <td>0.000000</td>\n",
       "      <td>0.617210</td>\n",
       "      <td>1.937055</td>\n",
       "      <td>0.0</td>\n",
       "      <td>0.000000</td>\n",
       "      <td>0.000000</td>\n",
       "      <td>1.986266</td>\n",
       "      <td>0.000000</td>\n",
       "      <td>1.991558</td>\n",
       "      <td>0.0</td>\n",
       "    </tr>\n",
       "    <tr>\n",
       "      <th>7182</th>\n",
       "      <td>GSM3204297</td>\n",
       "      <td>T.CD8</td>\n",
       "      <td>False</td>\n",
       "      <td>0.0</td>\n",
       "      <td>1.977320</td>\n",
       "      <td>0.000000</td>\n",
       "      <td>0.0</td>\n",
       "      <td>0.000000</td>\n",
       "      <td>0.000000</td>\n",
       "      <td>0.000000</td>\n",
       "      <td>...</td>\n",
       "      <td>0.000000</td>\n",
       "      <td>0.636619</td>\n",
       "      <td>0.000000</td>\n",
       "      <td>0.0</td>\n",
       "      <td>1.941190</td>\n",
       "      <td>1.212302</td>\n",
       "      <td>0.000000</td>\n",
       "      <td>0.000000</td>\n",
       "      <td>1.324604</td>\n",
       "      <td>0.0</td>\n",
       "    </tr>\n",
       "    <tr>\n",
       "      <th>7183</th>\n",
       "      <td>GSM3204298</td>\n",
       "      <td>T.CD8</td>\n",
       "      <td>False</td>\n",
       "      <td>0.0</td>\n",
       "      <td>1.986248</td>\n",
       "      <td>0.000000</td>\n",
       "      <td>0.0</td>\n",
       "      <td>0.000000</td>\n",
       "      <td>0.000000</td>\n",
       "      <td>0.000000</td>\n",
       "      <td>...</td>\n",
       "      <td>0.000000</td>\n",
       "      <td>0.868394</td>\n",
       "      <td>0.000000</td>\n",
       "      <td>0.0</td>\n",
       "      <td>1.997277</td>\n",
       "      <td>0.000000</td>\n",
       "      <td>0.000000</td>\n",
       "      <td>0.000000</td>\n",
       "      <td>1.601028</td>\n",
       "      <td>0.0</td>\n",
       "    </tr>\n",
       "    <tr>\n",
       "      <th>7184</th>\n",
       "      <td>GSM3204299</td>\n",
       "      <td>T.CD8</td>\n",
       "      <td>False</td>\n",
       "      <td>0.0</td>\n",
       "      <td>0.000000</td>\n",
       "      <td>0.000000</td>\n",
       "      <td>0.0</td>\n",
       "      <td>0.000000</td>\n",
       "      <td>0.000000</td>\n",
       "      <td>0.000000</td>\n",
       "      <td>...</td>\n",
       "      <td>1.868568</td>\n",
       "      <td>1.488624</td>\n",
       "      <td>0.000000</td>\n",
       "      <td>0.0</td>\n",
       "      <td>0.000000</td>\n",
       "      <td>0.000000</td>\n",
       "      <td>1.668218</td>\n",
       "      <td>0.000000</td>\n",
       "      <td>1.948110</td>\n",
       "      <td>0.0</td>\n",
       "    </tr>\n",
       "    <tr>\n",
       "      <th>7185</th>\n",
       "      <td>GSM3204300</td>\n",
       "      <td>T.CD8</td>\n",
       "      <td>False</td>\n",
       "      <td>0.0</td>\n",
       "      <td>1.824239</td>\n",
       "      <td>1.941595</td>\n",
       "      <td>0.0</td>\n",
       "      <td>0.000000</td>\n",
       "      <td>0.000000</td>\n",
       "      <td>0.000000</td>\n",
       "      <td>...</td>\n",
       "      <td>0.000000</td>\n",
       "      <td>1.162750</td>\n",
       "      <td>0.000000</td>\n",
       "      <td>0.0</td>\n",
       "      <td>0.000000</td>\n",
       "      <td>1.791643</td>\n",
       "      <td>1.945509</td>\n",
       "      <td>0.000000</td>\n",
       "      <td>1.599892</td>\n",
       "      <td>0.0</td>\n",
       "    </tr>\n",
       "  </tbody>\n",
       "</table>\n",
       "<p>7186 rows × 21593 columns</p>\n",
       "</div>"
      ],
      "text/plain": [
       "          cellID cellType  macrophage  C9orf152     RPS11     ELMO2  CREB3L1  \\\n",
       "0     GSM3197115      Mal       False       0.0  2.067933  1.517847      0.0   \n",
       "1     GSM3197116      Mal       False       0.0  1.922102  0.000000      0.0   \n",
       "2     GSM3197117      Mal       False       0.0  2.015497  0.841959      0.0   \n",
       "3     GSM3197118      Mal       False       0.0  1.930309  1.691069      0.0   \n",
       "4     GSM3197119      Mal       False       0.0  2.058619  1.509809      0.0   \n",
       "...          ...      ...         ...       ...       ...       ...      ...   \n",
       "7181  GSM3204296    T.CD8       False       0.0  1.924485  0.000000      0.0   \n",
       "7182  GSM3204297    T.CD8       False       0.0  1.977320  0.000000      0.0   \n",
       "7183  GSM3204298    T.CD8       False       0.0  1.986248  0.000000      0.0   \n",
       "7184  GSM3204299    T.CD8       False       0.0  0.000000  0.000000      0.0   \n",
       "7185  GSM3204300    T.CD8       False       0.0  1.824239  1.941595      0.0   \n",
       "\n",
       "         PNMA1      MMP2   TMEM216  ...   MIR4691     GPLD1     RAB8A  RXFP2  \\\n",
       "0     1.686722  1.168448  1.526162  ...  0.000000  0.367588  1.496530    0.0   \n",
       "1     0.000000  0.000000  0.000000  ...  0.000000  0.000000  0.000000    0.0   \n",
       "2     0.695306  0.000000  0.000000  ...  0.000000  1.127459  0.000000    0.0   \n",
       "3     1.592092  0.000000  0.000000  ...  0.000000  0.000000  0.000000    0.0   \n",
       "4     1.748345  1.676507  1.527963  ...  0.000000  0.624097  1.686261    0.0   \n",
       "...        ...       ...       ...  ...       ...       ...       ...    ...   \n",
       "7181  0.000000  0.000000  0.000000  ...  0.000000  0.617210  1.937055    0.0   \n",
       "7182  0.000000  0.000000  0.000000  ...  0.000000  0.636619  0.000000    0.0   \n",
       "7183  0.000000  0.000000  0.000000  ...  0.000000  0.868394  0.000000    0.0   \n",
       "7184  0.000000  0.000000  0.000000  ...  1.868568  1.488624  0.000000    0.0   \n",
       "7185  0.000000  0.000000  0.000000  ...  0.000000  1.162750  0.000000    0.0   \n",
       "\n",
       "         PCIF1   PIK3IP1    SNRPD2   SLC39A6      CTSC  AQP7  \n",
       "0     0.000000  0.966075  1.876721  1.638426  1.512449   0.0  \n",
       "1     1.802701  1.909713  0.000000  0.000000  0.000000   0.0  \n",
       "2     0.000000  0.000000  1.882266  1.141858  1.459023   0.0  \n",
       "3     0.000000  0.000000  1.947145  1.666798  1.047136   0.0  \n",
       "4     1.601311  1.379246  1.924609  1.715210  1.352315   0.0  \n",
       "...        ...       ...       ...       ...       ...   ...  \n",
       "7181  0.000000  0.000000  1.986266  0.000000  1.991558   0.0  \n",
       "7182  1.941190  1.212302  0.000000  0.000000  1.324604   0.0  \n",
       "7183  1.997277  0.000000  0.000000  0.000000  1.601028   0.0  \n",
       "7184  0.000000  0.000000  1.668218  0.000000  1.948110   0.0  \n",
       "7185  0.000000  1.791643  1.945509  0.000000  1.599892   0.0  \n",
       "\n",
       "[7186 rows x 21593 columns]"
      ]
     },
     "execution_count": 3,
     "metadata": {},
     "output_type": "execute_result"
    }
   ],
   "source": [
    "data = pd.read_pickle(\"../Data/GSE115978-allData.pkl\")\n",
    "macrophage = (data[\"cellType\"] == \"Macrophage\")\n",
    "data.insert(2, \"macrophage\", macrophage)\n",
    "data"
   ]
  },
  {
   "cell_type": "markdown",
   "id": "cb20f70e-6059-43fd-9c5c-7efe0f9828f6",
   "metadata": {
    "tags": []
   },
   "source": [
    "### MLP with all genes as features"
   ]
  },
  {
   "cell_type": "markdown",
   "id": "0a598023-5792-43f8-8dea-1860350cf0c0",
   "metadata": {},
   "source": [
    "#### Create Input and Output Data"
   ]
  },
  {
   "cell_type": "code",
   "execution_count": 68,
   "id": "2a925229-a54d-4d38-9ce0-ce2c106346d9",
   "metadata": {},
   "outputs": [],
   "source": [
    "X = data.iloc[:, 3:] # Input features\n",
    "y = data[\"macrophage\"]  # Output target"
   ]
  },
  {
   "cell_type": "code",
   "execution_count": 69,
   "id": "371d99f0-6839-4a19-a17b-c54a4e4a82e2",
   "metadata": {},
   "outputs": [],
   "source": [
    "X_train, X_val, y_train, y_val = train_test_split(X.to_numpy(), y.to_numpy(), test_size=0.2, \\\n",
    "                                                  stratify=y, random_state=SEED)"
   ]
  },
  {
   "cell_type": "markdown",
   "id": "8c03043c-e976-4574-87d3-69f6c6f52000",
   "metadata": {},
   "source": [
    "#### Generate Dataset"
   ]
  },
  {
   "cell_type": "code",
   "execution_count": 7,
   "id": "ca96c1f7-ae8c-46b5-9b4c-70bc5f80e2b4",
   "metadata": {},
   "outputs": [],
   "source": [
    "class ClassifierDataset(Dataset):\n",
    "    \n",
    "    def __init__(self, X_data, y_data):\n",
    "        self.X_data = X_data\n",
    "        self.y_data = y_data\n",
    "        \n",
    "    def __getitem__(self, index):\n",
    "        return self.X_data[index], self.y_data[index]\n",
    "        \n",
    "    def __len__ (self):\n",
    "        return len(self.X_data)\n",
    "\n",
    "\n",
    "train_dataset = ClassifierDataset(torch.from_numpy(X_train).float(), torch.from_numpy(y_train).long())\n",
    "val_dataset = ClassifierDataset(torch.from_numpy(X_val).float(), torch.from_numpy(y_val).long())"
   ]
  },
  {
   "cell_type": "markdown",
   "id": "908b7561-da25-411b-8457-b3a61f59719a",
   "metadata": {
    "jp-MarkdownHeadingCollapsed": true,
    "tags": []
   },
   "source": [
    "#### Weighted Sampling"
   ]
  },
  {
   "cell_type": "code",
   "execution_count": 18,
   "id": "84c8cc32-0f51-494b-9004-929b68009138",
   "metadata": {},
   "outputs": [],
   "source": [
    "target_list = []\n",
    "for _, t in train_dataset:\n",
    "    target_list.append(t)\n",
    "    \n",
    "target_list = torch.tensor(target_list)"
   ]
  },
  {
   "cell_type": "markdown",
   "id": "3e55b4cf-2103-401b-8bb3-3db38452a095",
   "metadata": {},
   "source": [
    "Define class weights as the reciprocal of each class count"
   ]
  },
  {
   "cell_type": "code",
   "execution_count": 19,
   "id": "a3b625b6-09c4-4186-ac1c-92dc11fc2d1a",
   "metadata": {},
   "outputs": [
    {
     "data": {
      "text/plain": [
       "tensor([0.0002, 0.0030])"
      ]
     },
     "execution_count": 19,
     "metadata": {},
     "output_type": "execute_result"
    }
   ],
   "source": [
    "class_count = torch.bincount(target_list)\n",
    "class_weights = 1./class_count\n",
    "class_weights"
   ]
  },
  {
   "cell_type": "code",
   "execution_count": 20,
   "id": "f2da3c8d-2a9d-46e3-97ad-5646b9eca5ec",
   "metadata": {},
   "outputs": [
    {
     "data": {
      "text/plain": [
       "tensor([0.0002, 0.0002, 0.0002,  ..., 0.0002, 0.0030, 0.0002])"
      ]
     },
     "execution_count": 20,
     "metadata": {},
     "output_type": "execute_result"
    }
   ],
   "source": [
    "class_weights_all = class_weights[target_list]\n",
    "class_weights_all"
   ]
  },
  {
   "cell_type": "code",
   "execution_count": 74,
   "id": "a9b0d4ab-825e-4755-8593-32226a30970f",
   "metadata": {},
   "outputs": [],
   "source": [
    "weighted_sampler = WeightedRandomSampler(\n",
    "    weights=class_weights_all,\n",
    "    num_samples=len(class_weights_all),\n",
    "    replacement=True\n",
    ")"
   ]
  },
  {
   "cell_type": "markdown",
   "id": "c46d1a35-2331-44db-8c03-698616e81bfd",
   "metadata": {},
   "source": [
    "#### Model Parameters"
   ]
  },
  {
   "cell_type": "code",
   "execution_count": 75,
   "id": "3a9d345a-3f36-434e-a820-8ae546e11a22",
   "metadata": {},
   "outputs": [],
   "source": [
    "EPOCHS = 3\n",
    "BATCH_SIZE = 64\n",
    "LEARNING_RATE = 0.01\n",
    "NUM_FEATURES = len(X.columns)\n",
    "NUM_CLASSES = 2"
   ]
  },
  {
   "cell_type": "markdown",
   "id": "e2938b24-aca9-47e1-ad14-818a0620886d",
   "metadata": {},
   "source": [
    "#### DataLoaders"
   ]
  },
  {
   "cell_type": "code",
   "execution_count": 76,
   "id": "97ef892e-e420-4194-b177-bb5f111f48de",
   "metadata": {},
   "outputs": [],
   "source": [
    "train_loader = DataLoader(dataset=train_dataset,\n",
    "                          batch_size=BATCH_SIZE,\n",
    "                          sampler=weighted_sampler\n",
    ")\n",
    "val_loader = DataLoader(dataset=val_dataset, batch_size=1)"
   ]
  },
  {
   "cell_type": "markdown",
   "id": "e7d6c1f1-3710-4c63-8558-4a056da63057",
   "metadata": {},
   "source": [
    "#### Neural Net Architecture"
   ]
  },
  {
   "cell_type": "code",
   "execution_count": 12,
   "id": "73bb3252-6887-406d-8990-a7c8514dfd52",
   "metadata": {},
   "outputs": [],
   "source": [
    "class MulticlassClassification(nn.Module):\n",
    "    def __init__(self, num_feature, num_class):\n",
    "        super(MulticlassClassification, self).__init__()\n",
    "        self.bn_cont = nn.BatchNorm1d(num_feature, eps=1e-05, momentum=0.1, affine=True)\n",
    "        self.layers = nn.Sequential(\n",
    "            nn.Linear(num_feature, 100, bias=False),\n",
    "            nn.ReLU(inplace=True),\n",
    "            nn.BatchNorm1d(100, eps=1e-05, momentum=0.1, affine=True),\n",
    "            nn.Linear(100, 100, bias=False),\n",
    "            nn.ReLU(inplace=True),\n",
    "            nn.BatchNorm1d(100, eps=1e-05, momentum=0.1, affine=True),\n",
    "            nn.Linear(100, num_class, bias=True)\n",
    "        )\n",
    "\n",
    "    def forward(self, x):\n",
    "        x = self.bn_cont(x)\n",
    "        x = self.layers(x)\n",
    "        return x\n"
   ]
  },
  {
   "cell_type": "markdown",
   "id": "0bf984f5-8247-4b19-b0ac-f86a2e671211",
   "metadata": {},
   "source": [
    "Check if GPU is active"
   ]
  },
  {
   "cell_type": "code",
   "execution_count": 14,
   "id": "6b1f097d-92cc-4b8f-880b-a12ab78ad752",
   "metadata": {},
   "outputs": [],
   "source": [
    "device = torch.device(\"cuda:0\" if torch.cuda.is_available() else \"cpu\")"
   ]
  },
  {
   "cell_type": "markdown",
   "id": "56e13609-b219-4d44-a06d-18b489b2cb6d",
   "metadata": {},
   "source": [
    "Create model for our task"
   ]
  },
  {
   "cell_type": "code",
   "execution_count": 79,
   "id": "9e1c1eea-f0b7-4a6a-b5ce-75c740e1019a",
   "metadata": {},
   "outputs": [
    {
     "data": {
      "text/plain": [
       "MulticlassClassification(\n",
       "  (bn_cont): BatchNorm1d(21590, eps=1e-05, momentum=0.1, affine=True, track_running_stats=True)\n",
       "  (layers): Sequential(\n",
       "    (0): Linear(in_features=21590, out_features=100, bias=False)\n",
       "    (1): ReLU(inplace=True)\n",
       "    (2): BatchNorm1d(100, eps=1e-05, momentum=0.1, affine=True, track_running_stats=True)\n",
       "    (3): Linear(in_features=100, out_features=100, bias=False)\n",
       "    (4): ReLU(inplace=True)\n",
       "    (5): BatchNorm1d(100, eps=1e-05, momentum=0.1, affine=True, track_running_stats=True)\n",
       "    (6): Linear(in_features=100, out_features=2, bias=True)\n",
       "  )\n",
       ")"
      ]
     },
     "execution_count": 79,
     "metadata": {},
     "output_type": "execute_result"
    }
   ],
   "source": [
    "model = MulticlassClassification(NUM_FEATURES, NUM_CLASSES)\n",
    "model.to(device)\n",
    "model"
   ]
  },
  {
   "cell_type": "markdown",
   "id": "3d513876-0455-41b5-9eb7-a7ffb5b79b22",
   "metadata": {},
   "source": [
    "Set an optimizer for gradient descent and a loss function"
   ]
  },
  {
   "cell_type": "code",
   "execution_count": 21,
   "id": "e89582b2-4c16-423a-bb85-47f624048b25",
   "metadata": {},
   "outputs": [],
   "source": [
    "criterion = nn.CrossEntropyLoss(weight=class_weights.to(device))\n",
    "# criterion = nn.CrossEntropyLoss()\n",
    "optimizer = optim.Adam(model.parameters(), lr=LEARNING_RATE)"
   ]
  },
  {
   "cell_type": "markdown",
   "id": "41f99ccd-13e9-4e90-a288-da02a018c9a6",
   "metadata": {
    "jp-MarkdownHeadingCollapsed": true,
    "tags": []
   },
   "source": [
    "#### Train model"
   ]
  },
  {
   "cell_type": "markdown",
   "id": "b9968756-b0d8-4f94-a79d-1446d9f086ec",
   "metadata": {},
   "source": [
    "Function to calculate accuracy each epoch"
   ]
  },
  {
   "cell_type": "code",
   "execution_count": 24,
   "id": "568fb7db-cdf8-4e35-b679-ec3bad0c8d28",
   "metadata": {},
   "outputs": [],
   "source": [
    "def multi_acc(y_pred, y_test):\n",
    "    y_pred_softmax = torch.log_softmax(y_pred, dim = 1)\n",
    "    _, y_pred_tags = torch.max(y_pred_softmax, dim = 1)    \n",
    "    \n",
    "    correct_pred = (y_pred_tags == y_test).float()\n",
    "    acc = correct_pred.sum() / len(correct_pred)\n",
    "    \n",
    "    acc = torch.round(acc * 100)\n",
    "    \n",
    "    return acc"
   ]
  },
  {
   "cell_type": "code",
   "execution_count": 82,
   "id": "af803275-2afe-45bb-8393-bc01a8b2b695",
   "metadata": {},
   "outputs": [
    {
     "name": "stdout",
     "output_type": "stream",
     "text": [
      "Begin training.\n"
     ]
    },
    {
     "data": {
      "application/vnd.jupyter.widget-view+json": {
       "model_id": "5fad6d5069e6434e905e44651547de47",
       "version_major": 2,
       "version_minor": 0
      },
      "text/plain": [
       "  0%|          | 0/3 [00:00<?, ?it/s]"
      ]
     },
     "metadata": {},
     "output_type": "display_data"
    },
    {
     "name": "stdout",
     "output_type": "stream",
     "text": [
      "Epoch 001: | Train Loss: 0.03144 | Val Loss: 0.05205 | Train Acc: 97.111| Val Acc: 99.096\n",
      "Epoch 002: | Train Loss: 0.00264 | Val Loss: 0.07911 | Train Acc: 99.644| Val Acc: 98.470\n",
      "Epoch 003: | Train Loss: 0.00189 | Val Loss: 0.05707 | Train Acc: 99.600| Val Acc: 98.540\n"
     ]
    }
   ],
   "source": [
    "print(\"Begin training.\")\n",
    "\n",
    "accuracy_stats = {\n",
    "    'train': [],\n",
    "    \"val\": []\n",
    "}\n",
    "loss_stats = {\n",
    "    'train': [],\n",
    "    \"val\": []\n",
    "}\n",
    "\n",
    "for e in tqdm(range(1, EPOCHS+1)):\n",
    "    \n",
    "    # TRAINING\n",
    "    train_epoch_loss = 0\n",
    "    train_epoch_acc = 0\n",
    "    \n",
    "    model.train()\n",
    "    for X_train_batch, y_train_batch in train_loader:\n",
    "        X_train_batch, y_train_batch = X_train_batch.to(device), y_train_batch.to(device)\n",
    "        optimizer.zero_grad()\n",
    "        \n",
    "        y_train_pred = model(X_train_batch)\n",
    "        \n",
    "        train_loss = criterion(y_train_pred, y_train_batch)\n",
    "        train_acc = multi_acc(y_train_pred, y_train_batch)\n",
    "        \n",
    "        train_loss.backward()\n",
    "        optimizer.step()\n",
    "        \n",
    "        train_epoch_loss += train_loss.item()\n",
    "        train_epoch_acc += train_acc.item()\n",
    "        \n",
    "        \n",
    "    # VALIDATION    \n",
    "    with torch.no_grad():\n",
    "        \n",
    "        val_epoch_loss = 0\n",
    "        val_epoch_acc = 0\n",
    "        \n",
    "        model.eval()\n",
    "        for X_val_batch, y_val_batch in val_loader:\n",
    "            X_val_batch, y_val_batch = X_val_batch.to(device), y_val_batch.to(device)\n",
    "            \n",
    "            y_val_pred = model(X_val_batch)\n",
    "                        \n",
    "            val_loss = criterion(y_val_pred, y_val_batch)\n",
    "            val_acc = multi_acc(y_val_pred, y_val_batch)\n",
    "            \n",
    "            val_epoch_loss += val_loss.item()\n",
    "            val_epoch_acc += val_acc.item()\n",
    "    \n",
    "    loss_stats['train'].append(train_epoch_loss/len(train_loader))\n",
    "    loss_stats['val'].append(val_epoch_loss/len(val_loader))\n",
    "    accuracy_stats['train'].append(train_epoch_acc/len(train_loader))\n",
    "    accuracy_stats['val'].append(val_epoch_acc/len(val_loader))\n",
    "                              \n",
    "    \n",
    "    print(f'Epoch {e+0:03}: | Train Loss: {train_epoch_loss/len(train_loader):.5f} | Val Loss: {val_epoch_loss/len(val_loader):.5f} | Train Acc: {train_epoch_acc/len(train_loader):.3f}| Val Acc: {val_epoch_acc/len(val_loader):.3f}')\n"
   ]
  },
  {
   "cell_type": "code",
   "execution_count": 83,
   "id": "d8fcb57a-98dd-44c4-bbaf-cc558796aa6a",
   "metadata": {},
   "outputs": [],
   "source": [
    "y_pred_list = []\n",
    "with torch.no_grad():\n",
    "    model.eval()\n",
    "    for X_batch, _ in val_loader:\n",
    "        X_batch = X_batch.to(device)\n",
    "        y_test_pred = model(X_batch)\n",
    "        _, y_pred_tags = torch.max(y_test_pred, dim = 1)\n",
    "        y_pred_list.append(y_pred_tags.cpu().numpy())\n",
    "y_pred_list = [a.squeeze().tolist() for a in y_pred_list]"
   ]
  },
  {
   "cell_type": "code",
   "execution_count": 84,
   "id": "227be0ad-10e1-4351-9ab8-8561f91239b3",
   "metadata": {},
   "outputs": [
    {
     "data": {
      "text/plain": [
       "<AxesSubplot: >"
      ]
     },
     "execution_count": 84,
     "metadata": {},
     "output_type": "execute_result"
    },
    {
     "data": {
      "image/png": "[encoded data removed]",
      "text/plain": [
       "<Figure size 320x240 with 2 Axes>"
      ]
     },
     "metadata": {},
     "output_type": "display_data"
    }
   ],
   "source": [
    "confusion_matrix_df = pd.DataFrame(confusion_matrix(y_val, y_pred_list))\n",
    "\n",
    "sns.heatmap(confusion_matrix_df, annot=True, cmap=\"YlGnBu\" ,fmt='g')"
   ]
  },
  {
   "cell_type": "code",
   "execution_count": 85,
   "id": "afd582b5-d198-49e8-a6c4-ec48757a8ff9",
   "metadata": {},
   "outputs": [
    {
     "name": "stdout",
     "output_type": "stream",
     "text": [
      "              precision    recall  f1-score   support\n",
      "\n",
      "       False       0.99      0.99      0.99      1354\n",
      "        True       0.88      0.87      0.87        84\n",
      "\n",
      "    accuracy                           0.99      1438\n",
      "   macro avg       0.94      0.93      0.93      1438\n",
      "weighted avg       0.99      0.99      0.99      1438\n",
      "\n"
     ]
    }
   ],
   "source": [
    "print(classification_report(y_val, y_pred_list))"
   ]
  },
  {
   "cell_type": "markdown",
   "id": "6f1495b9-5709-432f-8c88-a07272b88e05",
   "metadata": {
    "tags": []
   },
   "source": [
    "### MLP with 500 variable genes as features"
   ]
  },
  {
   "cell_type": "code",
   "execution_count": 4,
   "id": "abfa9ccc-ce0e-4fbd-b962-f999873543d2",
   "metadata": {},
   "outputs": [
    {
     "data": {
      "text/plain": [
       "500"
      ]
     },
     "execution_count": 4,
     "metadata": {},
     "output_type": "execute_result"
    }
   ],
   "source": [
    "with open(\"../Data/variable_genes.txt\") as f:\n",
    "    var_genes = f.read().splitlines()\n",
    "len(var_genes)"
   ]
  },
  {
   "cell_type": "markdown",
   "id": "e4818cff-d594-4d71-9401-b7e1726421e3",
   "metadata": {},
   "source": [
    "#### Create Input and Output Data"
   ]
  },
  {
   "cell_type": "code",
   "execution_count": 5,
   "id": "e3b1bcc2-9e56-4a13-b7fa-d9d2375da077",
   "metadata": {},
   "outputs": [],
   "source": [
    "X = data[var_genes] # Input features\n",
    "y = data[\"macrophage\"]  # Output target\n",
    "X_train, X_val, y_train, y_val = train_test_split(X.to_numpy(), y.to_numpy(), test_size=0.2, \\\n",
    "                                                  stratify=y, random_state=21)"
   ]
  },
  {
   "cell_type": "markdown",
   "id": "3cf620ab-a91e-4628-929c-497fce269ec2",
   "metadata": {},
   "source": [
    "#### Generate Dataset"
   ]
  },
  {
   "cell_type": "code",
   "execution_count": 8,
   "id": "69e84702-530b-43c2-b5c8-727a761488bc",
   "metadata": {},
   "outputs": [],
   "source": [
    "train_dataset = ClassifierDataset(torch.from_numpy(X_train).float(), torch.from_numpy(y_train).long())\n",
    "val_dataset = ClassifierDataset(torch.from_numpy(X_val).float(), torch.from_numpy(y_val).long())"
   ]
  },
  {
   "cell_type": "markdown",
   "id": "7ea1881d-9163-46c0-90a3-586dd0e5d64a",
   "metadata": {
    "tags": []
   },
   "source": [
    "#### Weighted Sampling"
   ]
  },
  {
   "cell_type": "markdown",
   "id": "380adf36-95e5-4b13-bf87-c4dde81c8132",
   "metadata": {},
   "source": [
    "Reuse code above"
   ]
  },
  {
   "cell_type": "markdown",
   "id": "4eec4f0c-7941-47fb-9fd9-7a60fe0763a5",
   "metadata": {},
   "source": [
    "#### Model Parameters"
   ]
  },
  {
   "cell_type": "code",
   "execution_count": 10,
   "id": "d63b408f-a173-4f26-a338-b3ea0ed03ded",
   "metadata": {},
   "outputs": [],
   "source": [
    "EPOCHS = 3\n",
    "BATCH_SIZE = 64\n",
    "LEARNING_RATE = 0.01\n",
    "NUM_FEATURES = len(var_genes)\n",
    "NUM_CLASSES = 2"
   ]
  },
  {
   "cell_type": "markdown",
   "id": "94692cfa-8a74-463c-8996-60fdebef57e1",
   "metadata": {},
   "source": [
    "#### DataLoaders"
   ]
  },
  {
   "cell_type": "code",
   "execution_count": 11,
   "id": "72f2eb21-5621-4b31-a57c-c83f035bc646",
   "metadata": {},
   "outputs": [],
   "source": [
    "train_loader = DataLoader(dataset=train_dataset,\n",
    "                          batch_size=BATCH_SIZE\n",
    ")\n",
    "val_loader = DataLoader(dataset=val_dataset, batch_size=1)"
   ]
  },
  {
   "cell_type": "markdown",
   "id": "d9e1936a-9851-4452-9408-9e521628412f",
   "metadata": {},
   "source": [
    "#### Initialize model"
   ]
  },
  {
   "cell_type": "code",
   "execution_count": 34,
   "id": "aa9131a6-a6bd-4477-af8b-b343319e6f7e",
   "metadata": {},
   "outputs": [
    {
     "data": {
      "text/plain": [
       "MulticlassClassification(\n",
       "  (bn_cont): BatchNorm1d(500, eps=1e-05, momentum=0.1, affine=True, track_running_stats=True)\n",
       "  (layers): Sequential(\n",
       "    (0): Linear(in_features=500, out_features=100, bias=False)\n",
       "    (1): ReLU(inplace=True)\n",
       "    (2): BatchNorm1d(100, eps=1e-05, momentum=0.1, affine=True, track_running_stats=True)\n",
       "    (3): Linear(in_features=100, out_features=100, bias=False)\n",
       "    (4): ReLU(inplace=True)\n",
       "    (5): BatchNorm1d(100, eps=1e-05, momentum=0.1, affine=True, track_running_stats=True)\n",
       "    (6): Linear(in_features=100, out_features=2, bias=True)\n",
       "  )\n",
       ")"
      ]
     },
     "execution_count": 34,
     "metadata": {},
     "output_type": "execute_result"
    }
   ],
   "source": [
    "model = MulticlassClassification(NUM_FEATURES, NUM_CLASSES)\n",
    "model.to(device)\n",
    "model"
   ]
  },
  {
   "cell_type": "markdown",
   "id": "61931afc-6304-42ef-b7e5-b7e56d795366",
   "metadata": {
    "tags": []
   },
   "source": [
    "#### Train model"
   ]
  },
  {
   "cell_type": "code",
   "execution_count": 35,
   "id": "027ad81d-c34d-4277-ab1e-a1b655cae3e3",
   "metadata": {},
   "outputs": [],
   "source": [
    "#criterion = nn.CrossEntropyLoss()\n",
    "criterion = nn.CrossEntropyLoss(weight=class_weights.to(device))\n",
    "optimizer = optim.Adam(model.parameters(), lr=LEARNING_RATE)"
   ]
  },
  {
   "cell_type": "code",
   "execution_count": 36,
   "id": "b1dd020e-af11-465a-865a-0ba3e6702cbf",
   "metadata": {},
   "outputs": [
    {
     "name": "stdout",
     "output_type": "stream",
     "text": [
      "Begin training.\n"
     ]
    },
    {
     "data": {
      "application/vnd.jupyter.widget-view+json": {
       "model_id": "e3b165905d134b8baf2c5ca851f7be47",
       "version_major": 2,
       "version_minor": 0
      },
      "text/plain": [
       "  0%|          | 0/3 [00:00<?, ?it/s]"
      ]
     },
     "metadata": {},
     "output_type": "display_data"
    },
    {
     "name": "stdout",
     "output_type": "stream",
     "text": [
      "Epoch 001: | Train Loss: 0.14264 | Val Loss: 0.15487 | Train Acc: 95.244| Val Acc: 97.218\n",
      "Epoch 002: | Train Loss: 0.05606 | Val Loss: 0.11129 | Train Acc: 98.633| Val Acc: 97.914\n",
      "Epoch 003: | Train Loss: 0.04085 | Val Loss: 0.08932 | Train Acc: 98.922| Val Acc: 98.401\n"
     ]
    }
   ],
   "source": [
    "print(\"Begin training.\")\n",
    "\n",
    "accuracy_stats = {\n",
    "    'train': [],\n",
    "    \"val\": []\n",
    "}\n",
    "loss_stats = {\n",
    "    'train': [],\n",
    "    \"val\": []\n",
    "}\n",
    "\n",
    "for e in tqdm(range(1, EPOCHS+1)):\n",
    "    \n",
    "    # TRAINING\n",
    "    train_epoch_loss = 0\n",
    "    train_epoch_acc = 0\n",
    "    \n",
    "    model.train()\n",
    "    for X_train_batch, y_train_batch in train_loader:\n",
    "        X_train_batch, y_train_batch = X_train_batch.to(device), y_train_batch.to(device)\n",
    "        optimizer.zero_grad()\n",
    "        \n",
    "        y_train_pred = model(X_train_batch)\n",
    "        \n",
    "        train_loss = criterion(y_train_pred, y_train_batch)\n",
    "        train_acc = multi_acc(y_train_pred, y_train_batch)\n",
    "        \n",
    "        train_loss.backward()\n",
    "        optimizer.step()\n",
    "        \n",
    "        train_epoch_loss += train_loss.item()\n",
    "        train_epoch_acc += train_acc.item()\n",
    "        \n",
    "        \n",
    "    # VALIDATION    \n",
    "    with torch.no_grad():\n",
    "        \n",
    "        val_epoch_loss = 0\n",
    "        val_epoch_acc = 0\n",
    "        \n",
    "        model.eval()\n",
    "        for X_val_batch, y_val_batch in val_loader:\n",
    "            X_val_batch, y_val_batch = X_val_batch.to(device), y_val_batch.to(device)\n",
    "            \n",
    "            y_val_pred = model(X_val_batch)\n",
    "                        \n",
    "            val_loss = criterion(y_val_pred, y_val_batch)\n",
    "            val_acc = multi_acc(y_val_pred, y_val_batch)\n",
    "            \n",
    "            val_epoch_loss += val_loss.item()\n",
    "            val_epoch_acc += val_acc.item()\n",
    "    \n",
    "    loss_stats['train'].append(train_epoch_loss/len(train_loader))\n",
    "    loss_stats['val'].append(val_epoch_loss/len(val_loader))\n",
    "    accuracy_stats['train'].append(train_epoch_acc/len(train_loader))\n",
    "    accuracy_stats['val'].append(val_epoch_acc/len(val_loader))\n",
    "                              \n",
    "    \n",
    "    print(f'Epoch {e+0:03}: | Train Loss: {train_epoch_loss/len(train_loader):.5f} | Val Loss: {val_epoch_loss/len(val_loader):.5f} | Train Acc: {train_epoch_acc/len(train_loader):.3f}| Val Acc: {val_epoch_acc/len(val_loader):.3f}')\n"
   ]
  },
  {
   "cell_type": "markdown",
   "id": "c9e34b3c-7e89-492d-b2a0-da05a38ade92",
   "metadata": {},
   "source": [
    "#### Metrics"
   ]
  },
  {
   "cell_type": "code",
   "execution_count": 37,
   "id": "6164629e-9086-4eda-b223-89dc729d9040",
   "metadata": {},
   "outputs": [],
   "source": [
    "y_pred_list = []\n",
    "with torch.no_grad():\n",
    "    model.eval()\n",
    "    for X_batch, _ in val_loader:\n",
    "        X_batch = X_batch.to(device)\n",
    "        y_test_pred = model(X_batch)\n",
    "        _, y_pred_tags = torch.max(y_test_pred, dim = 1)\n",
    "        y_pred_list.append(y_pred_tags.cpu().numpy())\n",
    "y_pred_list = [a.squeeze().tolist() for a in y_pred_list]"
   ]
  },
  {
   "cell_type": "code",
   "execution_count": 38,
   "id": "bd204570-f0df-488d-8907-d48b8f80562f",
   "metadata": {},
   "outputs": [
    {
     "data": {
      "text/plain": [
       "<AxesSubplot: >"
      ]
     },
     "execution_count": 38,
     "metadata": {},
     "output_type": "execute_result"
    },
    {
     "data": {
      "image/png": "[encoded data removed]",
      "text/plain": [
       "<Figure size 320x240 with 2 Axes>"
      ]
     },
     "metadata": {},
     "output_type": "display_data"
    }
   ],
   "source": [
    "confusion_matrix_df = pd.DataFrame(confusion_matrix(y_val, y_pred_list))\n",
    "\n",
    "sns.heatmap(confusion_matrix_df, annot=True, cmap=\"YlGnBu\" ,fmt='g')"
   ]
  },
  {
   "cell_type": "code",
   "execution_count": 39,
   "id": "873f830e-68cb-415f-831f-d8c85ab7af6a",
   "metadata": {},
   "outputs": [
    {
     "name": "stdout",
     "output_type": "stream",
     "text": [
      "              precision    recall  f1-score   support\n",
      "\n",
      "       False       0.99      0.99      0.99      1354\n",
      "        True       0.83      0.92      0.87        84\n",
      "\n",
      "    accuracy                           0.98      1438\n",
      "   macro avg       0.91      0.95      0.93      1438\n",
      "weighted avg       0.99      0.98      0.98      1438\n",
      "\n"
     ]
    }
   ],
   "source": [
    "print(classification_report(y_val, y_pred_list))"
   ]
  }
 ],
 "metadata": {
  "kernelspec": {
   "display_name": "Python 3 (ipykernel)",
   "language": "python",
   "name": "python3"
  },
  "language_info": {
   "codemirror_mode": {
    "name": "ipython",
    "version": 3
   },
   "file_extension": ".py",
   "mimetype": "text/x-python",
   "name": "python",
   "nbconvert_exporter": "python",
   "pygments_lexer": "ipython3",
   "version": "3.9.16"
  }
 },
 "nbformat": 4,
 "nbformat_minor": 5
}
